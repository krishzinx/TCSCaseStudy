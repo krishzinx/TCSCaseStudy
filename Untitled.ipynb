{
 "cells": [
  {
   "cell_type": "code",
   "execution_count": 1,
   "id": "fc6c8018",
   "metadata": {},
   "outputs": [],
   "source": [
    "import numpy.random as nr\n",
    "import pandas as pd\n",
    "import pickle\n",
    "\n",
    "from sklearn.linear_model import LinearRegression\n",
    "from sklearn.metrics import r2_score\n",
    "from sklearn.model_selection import cross_val_score, train_test_split\n",
    "from sklearn.preprocessing import StandardScaler\n",
    "from sklearn.svm import SVR"
   ]
  },
  {
   "cell_type": "markdown",
   "id": "4019eb3a",
   "metadata": {},
   "source": [
    "### Read Data Frame"
   ]
  },
  {
   "cell_type": "code",
   "execution_count": 2,
   "id": "c7d44d43",
   "metadata": {
    "scrolled": true
   },
   "outputs": [
    {
     "data": {
      "text/html": [
       "<div>\n",
       "<style scoped>\n",
       "    .dataframe tbody tr th:only-of-type {\n",
       "        vertical-align: middle;\n",
       "    }\n",
       "\n",
       "    .dataframe tbody tr th {\n",
       "        vertical-align: top;\n",
       "    }\n",
       "\n",
       "    .dataframe thead th {\n",
       "        text-align: right;\n",
       "    }\n",
       "</style>\n",
       "<table border=\"1\" class=\"dataframe\">\n",
       "  <thead>\n",
       "    <tr style=\"text-align: right;\">\n",
       "      <th></th>\n",
       "      <th>AppID</th>\n",
       "      <th>Ins_Age</th>\n",
       "      <th>Ins_Gender</th>\n",
       "      <th>Ht</th>\n",
       "      <th>Wt</th>\n",
       "      <th>IssueDate</th>\n",
       "    </tr>\n",
       "  </thead>\n",
       "  <tbody>\n",
       "    <tr>\n",
       "      <th>0</th>\n",
       "      <td>56372</td>\n",
       "      <td>31</td>\n",
       "      <td>Male</td>\n",
       "      <td>510</td>\n",
       "      <td>185</td>\n",
       "      <td>NaN</td>\n",
       "    </tr>\n",
       "    <tr>\n",
       "      <th>1</th>\n",
       "      <td>34565</td>\n",
       "      <td>35</td>\n",
       "      <td>Male</td>\n",
       "      <td>510</td>\n",
       "      <td>205</td>\n",
       "      <td>NaN</td>\n",
       "    </tr>\n",
       "    <tr>\n",
       "      <th>2</th>\n",
       "      <td>57732</td>\n",
       "      <td>45</td>\n",
       "      <td>Female</td>\n",
       "      <td>510</td>\n",
       "      <td>125</td>\n",
       "      <td>NaN</td>\n",
       "    </tr>\n",
       "    <tr>\n",
       "      <th>3</th>\n",
       "      <td>87324</td>\n",
       "      <td>38</td>\n",
       "      <td>Male</td>\n",
       "      <td>503</td>\n",
       "      <td>175</td>\n",
       "      <td>NaN</td>\n",
       "    </tr>\n",
       "    <tr>\n",
       "      <th>4</th>\n",
       "      <td>12323</td>\n",
       "      <td>39</td>\n",
       "      <td>Female</td>\n",
       "      <td>600</td>\n",
       "      <td>252</td>\n",
       "      <td>NaN</td>\n",
       "    </tr>\n",
       "  </tbody>\n",
       "</table>\n",
       "</div>"
      ],
      "text/plain": [
       "   AppID  Ins_Age Ins_Gender   Ht   Wt  IssueDate\n",
       "0  56372       31       Male  510  185        NaN\n",
       "1  34565       35       Male  510  205        NaN\n",
       "2  57732       45     Female  510  125        NaN\n",
       "3  87324       38       Male  503  175        NaN\n",
       "4  12323       39     Female  600  252        NaN"
      ]
     },
     "execution_count": 2,
     "metadata": {},
     "output_type": "execute_result"
    }
   ],
   "source": [
    "df = pd.read_csv('data/Dummy-Data.csv')\n",
    "df.head()"
   ]
  },
  {
   "cell_type": "markdown",
   "id": "7d62f46c",
   "metadata": {},
   "source": [
    "### Convert Weight to Kg from Pounds"
   ]
  },
  {
   "cell_type": "code",
   "execution_count": 3,
   "id": "fa97b469",
   "metadata": {},
   "outputs": [
    {
     "data": {
      "text/html": [
       "<div>\n",
       "<style scoped>\n",
       "    .dataframe tbody tr th:only-of-type {\n",
       "        vertical-align: middle;\n",
       "    }\n",
       "\n",
       "    .dataframe tbody tr th {\n",
       "        vertical-align: top;\n",
       "    }\n",
       "\n",
       "    .dataframe thead th {\n",
       "        text-align: right;\n",
       "    }\n",
       "</style>\n",
       "<table border=\"1\" class=\"dataframe\">\n",
       "  <thead>\n",
       "    <tr style=\"text-align: right;\">\n",
       "      <th></th>\n",
       "      <th>AppID</th>\n",
       "      <th>Ins_Age</th>\n",
       "      <th>Ins_Gender</th>\n",
       "      <th>Ht</th>\n",
       "      <th>Wt</th>\n",
       "      <th>IssueDate</th>\n",
       "      <th>Wt_kg</th>\n",
       "    </tr>\n",
       "  </thead>\n",
       "  <tbody>\n",
       "    <tr>\n",
       "      <th>0</th>\n",
       "      <td>56372</td>\n",
       "      <td>31</td>\n",
       "      <td>Male</td>\n",
       "      <td>510</td>\n",
       "      <td>185</td>\n",
       "      <td>NaN</td>\n",
       "      <td>83.914520</td>\n",
       "    </tr>\n",
       "    <tr>\n",
       "      <th>1</th>\n",
       "      <td>34565</td>\n",
       "      <td>35</td>\n",
       "      <td>Male</td>\n",
       "      <td>510</td>\n",
       "      <td>205</td>\n",
       "      <td>NaN</td>\n",
       "      <td>92.986360</td>\n",
       "    </tr>\n",
       "    <tr>\n",
       "      <th>2</th>\n",
       "      <td>57732</td>\n",
       "      <td>45</td>\n",
       "      <td>Female</td>\n",
       "      <td>510</td>\n",
       "      <td>125</td>\n",
       "      <td>NaN</td>\n",
       "      <td>56.699000</td>\n",
       "    </tr>\n",
       "    <tr>\n",
       "      <th>3</th>\n",
       "      <td>87324</td>\n",
       "      <td>38</td>\n",
       "      <td>Male</td>\n",
       "      <td>503</td>\n",
       "      <td>175</td>\n",
       "      <td>NaN</td>\n",
       "      <td>79.378600</td>\n",
       "    </tr>\n",
       "    <tr>\n",
       "      <th>4</th>\n",
       "      <td>12323</td>\n",
       "      <td>39</td>\n",
       "      <td>Female</td>\n",
       "      <td>600</td>\n",
       "      <td>252</td>\n",
       "      <td>NaN</td>\n",
       "      <td>114.305184</td>\n",
       "    </tr>\n",
       "  </tbody>\n",
       "</table>\n",
       "</div>"
      ],
      "text/plain": [
       "   AppID  Ins_Age Ins_Gender   Ht   Wt  IssueDate       Wt_kg\n",
       "0  56372       31       Male  510  185        NaN   83.914520\n",
       "1  34565       35       Male  510  205        NaN   92.986360\n",
       "2  57732       45     Female  510  125        NaN   56.699000\n",
       "3  87324       38       Male  503  175        NaN   79.378600\n",
       "4  12323       39     Female  600  252        NaN  114.305184"
      ]
     },
     "execution_count": 3,
     "metadata": {},
     "output_type": "execute_result"
    }
   ],
   "source": [
    "ground_truth_df = df\n",
    "ground_truth_df['Wt_kg'] = 0.453592*df['Wt']\n",
    "ground_truth_df.head()"
   ]
  },
  {
   "cell_type": "markdown",
   "id": "a319e438",
   "metadata": {},
   "source": [
    "### Convert Height from feet to metre"
   ]
  },
  {
   "cell_type": "code",
   "execution_count": 4,
   "id": "a402f561",
   "metadata": {},
   "outputs": [
    {
     "data": {
      "text/html": [
       "<div>\n",
       "<style scoped>\n",
       "    .dataframe tbody tr th:only-of-type {\n",
       "        vertical-align: middle;\n",
       "    }\n",
       "\n",
       "    .dataframe tbody tr th {\n",
       "        vertical-align: top;\n",
       "    }\n",
       "\n",
       "    .dataframe thead th {\n",
       "        text-align: right;\n",
       "    }\n",
       "</style>\n",
       "<table border=\"1\" class=\"dataframe\">\n",
       "  <thead>\n",
       "    <tr style=\"text-align: right;\">\n",
       "      <th></th>\n",
       "      <th>AppID</th>\n",
       "      <th>Ins_Age</th>\n",
       "      <th>Ins_Gender</th>\n",
       "      <th>Ht</th>\n",
       "      <th>Wt</th>\n",
       "      <th>IssueDate</th>\n",
       "      <th>Wt_kg</th>\n",
       "      <th>Ht_modified</th>\n",
       "      <th>Ht_ft</th>\n",
       "      <th>Ht_in</th>\n",
       "      <th>Ht_m</th>\n",
       "    </tr>\n",
       "  </thead>\n",
       "  <tbody>\n",
       "    <tr>\n",
       "      <th>0</th>\n",
       "      <td>56372</td>\n",
       "      <td>31</td>\n",
       "      <td>Male</td>\n",
       "      <td>510</td>\n",
       "      <td>185</td>\n",
       "      <td>NaN</td>\n",
       "      <td>83.914520</td>\n",
       "      <td>5.1</td>\n",
       "      <td>5</td>\n",
       "      <td>1</td>\n",
       "      <td>1.5494</td>\n",
       "    </tr>\n",
       "    <tr>\n",
       "      <th>1</th>\n",
       "      <td>34565</td>\n",
       "      <td>35</td>\n",
       "      <td>Male</td>\n",
       "      <td>510</td>\n",
       "      <td>205</td>\n",
       "      <td>NaN</td>\n",
       "      <td>92.986360</td>\n",
       "      <td>5.1</td>\n",
       "      <td>5</td>\n",
       "      <td>1</td>\n",
       "      <td>1.5494</td>\n",
       "    </tr>\n",
       "    <tr>\n",
       "      <th>2</th>\n",
       "      <td>57732</td>\n",
       "      <td>45</td>\n",
       "      <td>Female</td>\n",
       "      <td>510</td>\n",
       "      <td>125</td>\n",
       "      <td>NaN</td>\n",
       "      <td>56.699000</td>\n",
       "      <td>5.1</td>\n",
       "      <td>5</td>\n",
       "      <td>1</td>\n",
       "      <td>1.5494</td>\n",
       "    </tr>\n",
       "    <tr>\n",
       "      <th>3</th>\n",
       "      <td>87324</td>\n",
       "      <td>38</td>\n",
       "      <td>Male</td>\n",
       "      <td>503</td>\n",
       "      <td>175</td>\n",
       "      <td>NaN</td>\n",
       "      <td>79.378600</td>\n",
       "      <td>5.03</td>\n",
       "      <td>5</td>\n",
       "      <td>3</td>\n",
       "      <td>1.6002</td>\n",
       "    </tr>\n",
       "    <tr>\n",
       "      <th>4</th>\n",
       "      <td>12323</td>\n",
       "      <td>39</td>\n",
       "      <td>Female</td>\n",
       "      <td>600</td>\n",
       "      <td>252</td>\n",
       "      <td>NaN</td>\n",
       "      <td>114.305184</td>\n",
       "      <td>6.0</td>\n",
       "      <td>6</td>\n",
       "      <td>0</td>\n",
       "      <td>1.8288</td>\n",
       "    </tr>\n",
       "  </tbody>\n",
       "</table>\n",
       "</div>"
      ],
      "text/plain": [
       "   AppID  Ins_Age Ins_Gender   Ht   Wt  IssueDate       Wt_kg Ht_modified  \\\n",
       "0  56372       31       Male  510  185        NaN   83.914520         5.1   \n",
       "1  34565       35       Male  510  205        NaN   92.986360         5.1   \n",
       "2  57732       45     Female  510  125        NaN   56.699000         5.1   \n",
       "3  87324       38       Male  503  175        NaN   79.378600        5.03   \n",
       "4  12323       39     Female  600  252        NaN  114.305184         6.0   \n",
       "\n",
       "   Ht_ft  Ht_in    Ht_m  \n",
       "0      5      1  1.5494  \n",
       "1      5      1  1.5494  \n",
       "2      5      1  1.5494  \n",
       "3      5      3  1.6002  \n",
       "4      6      0  1.8288  "
      ]
     },
     "execution_count": 4,
     "metadata": {},
     "output_type": "execute_result"
    }
   ],
   "source": [
    "ground_truth_df['Ht_modified'] = (ground_truth_df['Ht']/100).astype(str)\n",
    "ground_truth_df[['Ht_ft', 'Ht_in']] = ground_truth_df['Ht_modified'].str.split('.', 1, expand=True)\n",
    "ground_truth_df['Ht_ft'] = ground_truth_df['Ht_ft'].astype(int)\n",
    "ground_truth_df['Ht_in'] = ground_truth_df['Ht_in'].astype(int)\n",
    "ground_truth_df['Ht_m'] = ground_truth_df['Ht_ft']*0.3048 + ground_truth_df['Ht_in']*0.0254\n",
    "ground_truth_df.head()"
   ]
  },
  {
   "cell_type": "markdown",
   "id": "a6435dde",
   "metadata": {},
   "source": [
    "### Calcucalte BMI and prepare dataframe for ground truth"
   ]
  },
  {
   "cell_type": "code",
   "execution_count": 5,
   "id": "807af44a",
   "metadata": {},
   "outputs": [
    {
     "data": {
      "text/html": [
       "<div>\n",
       "<style scoped>\n",
       "    .dataframe tbody tr th:only-of-type {\n",
       "        vertical-align: middle;\n",
       "    }\n",
       "\n",
       "    .dataframe tbody tr th {\n",
       "        vertical-align: top;\n",
       "    }\n",
       "\n",
       "    .dataframe thead th {\n",
       "        text-align: right;\n",
       "    }\n",
       "</style>\n",
       "<table border=\"1\" class=\"dataframe\">\n",
       "  <thead>\n",
       "    <tr style=\"text-align: right;\">\n",
       "      <th></th>\n",
       "      <th>Ins_Age</th>\n",
       "      <th>Ins_Gender</th>\n",
       "      <th>Wt_kg</th>\n",
       "      <th>Ht_m</th>\n",
       "      <th>BMI</th>\n",
       "    </tr>\n",
       "  </thead>\n",
       "  <tbody>\n",
       "    <tr>\n",
       "      <th>0</th>\n",
       "      <td>31</td>\n",
       "      <td>Male</td>\n",
       "      <td>83.914520</td>\n",
       "      <td>1.5494</td>\n",
       "      <td>34.955057</td>\n",
       "    </tr>\n",
       "    <tr>\n",
       "      <th>1</th>\n",
       "      <td>35</td>\n",
       "      <td>Male</td>\n",
       "      <td>92.986360</td>\n",
       "      <td>1.5494</td>\n",
       "      <td>38.733982</td>\n",
       "    </tr>\n",
       "    <tr>\n",
       "      <th>2</th>\n",
       "      <td>45</td>\n",
       "      <td>Female</td>\n",
       "      <td>56.699000</td>\n",
       "      <td>1.5494</td>\n",
       "      <td>23.618282</td>\n",
       "    </tr>\n",
       "    <tr>\n",
       "      <th>3</th>\n",
       "      <td>38</td>\n",
       "      <td>Male</td>\n",
       "      <td>79.378600</td>\n",
       "      <td>1.6002</td>\n",
       "      <td>30.999515</td>\n",
       "    </tr>\n",
       "    <tr>\n",
       "      <th>4</th>\n",
       "      <td>39</td>\n",
       "      <td>Female</td>\n",
       "      <td>114.305184</td>\n",
       "      <td>1.8288</td>\n",
       "      <td>34.176966</td>\n",
       "    </tr>\n",
       "  </tbody>\n",
       "</table>\n",
       "</div>"
      ],
      "text/plain": [
       "   Ins_Age Ins_Gender       Wt_kg    Ht_m        BMI\n",
       "0       31       Male   83.914520  1.5494  34.955057\n",
       "1       35       Male   92.986360  1.5494  38.733982\n",
       "2       45     Female   56.699000  1.5494  23.618282\n",
       "3       38       Male   79.378600  1.6002  30.999515\n",
       "4       39     Female  114.305184  1.8288  34.176966"
      ]
     },
     "execution_count": 5,
     "metadata": {},
     "output_type": "execute_result"
    }
   ],
   "source": [
    "ground_truth_df['BMI'] = ground_truth_df['Wt_kg']/(ground_truth_df['Ht_m']**2)\n",
    "ground_truth_df = ground_truth_df.drop(['AppID', 'Ht', 'Wt', 'IssueDate', 'Ht_modified', 'Ht_ft', 'Ht_in'], axis=1)\n",
    "ground_truth_df.head()"
   ]
  },
  {
   "cell_type": "markdown",
   "id": "10b2a539",
   "metadata": {},
   "source": [
    "### Split Data into test and train"
   ]
  },
  {
   "cell_type": "code",
   "execution_count": 6,
   "id": "cb399ec9",
   "metadata": {},
   "outputs": [],
   "source": [
    "RANDOM_SEED = 123\n",
    "VAL_SIZE = 0.15\n",
    "TEST_SIZE = 0.15\n",
    "SCORING = 'r2'\n",
    "K_CROSS_VAL = 5"
   ]
  },
  {
   "cell_type": "code",
   "execution_count": 7,
   "id": "61a90559",
   "metadata": {},
   "outputs": [],
   "source": [
    "train, test = train_test_split(ground_truth_df, test_size=TEST_SIZE, random_state=RANDOM_SEED)"
   ]
  },
  {
   "cell_type": "code",
   "execution_count": 8,
   "id": "542eb517",
   "metadata": {},
   "outputs": [
    {
     "name": "stdout",
     "output_type": "stream",
     "text": [
      "(85, 5)\n"
     ]
    },
    {
     "data": {
      "text/html": [
       "<div>\n",
       "<style scoped>\n",
       "    .dataframe tbody tr th:only-of-type {\n",
       "        vertical-align: middle;\n",
       "    }\n",
       "\n",
       "    .dataframe tbody tr th {\n",
       "        vertical-align: top;\n",
       "    }\n",
       "\n",
       "    .dataframe thead th {\n",
       "        text-align: right;\n",
       "    }\n",
       "</style>\n",
       "<table border=\"1\" class=\"dataframe\">\n",
       "  <thead>\n",
       "    <tr style=\"text-align: right;\">\n",
       "      <th></th>\n",
       "      <th>Ins_Age</th>\n",
       "      <th>Ins_Gender</th>\n",
       "      <th>Wt_kg</th>\n",
       "      <th>Ht_m</th>\n",
       "      <th>BMI</th>\n",
       "    </tr>\n",
       "  </thead>\n",
       "  <tbody>\n",
       "    <tr>\n",
       "      <th>42</th>\n",
       "      <td>19</td>\n",
       "      <td>Female</td>\n",
       "      <td>81.64656</td>\n",
       "      <td>1.8034</td>\n",
       "      <td>25.104626</td>\n",
       "    </tr>\n",
       "    <tr>\n",
       "      <th>77</th>\n",
       "      <td>36</td>\n",
       "      <td>Female</td>\n",
       "      <td>77.11064</td>\n",
       "      <td>1.7526</td>\n",
       "      <td>25.104333</td>\n",
       "    </tr>\n",
       "    <tr>\n",
       "      <th>38</th>\n",
       "      <td>46</td>\n",
       "      <td>Female</td>\n",
       "      <td>54.43104</td>\n",
       "      <td>1.6764</td>\n",
       "      <td>19.368292</td>\n",
       "    </tr>\n",
       "    <tr>\n",
       "      <th>56</th>\n",
       "      <td>24</td>\n",
       "      <td>Male</td>\n",
       "      <td>81.64656</td>\n",
       "      <td>1.9304</td>\n",
       "      <td>21.910045</td>\n",
       "    </tr>\n",
       "    <tr>\n",
       "      <th>75</th>\n",
       "      <td>47</td>\n",
       "      <td>Male</td>\n",
       "      <td>81.64656</td>\n",
       "      <td>1.7018</td>\n",
       "      <td>28.191673</td>\n",
       "    </tr>\n",
       "  </tbody>\n",
       "</table>\n",
       "</div>"
      ],
      "text/plain": [
       "    Ins_Age Ins_Gender     Wt_kg    Ht_m        BMI\n",
       "42       19     Female  81.64656  1.8034  25.104626\n",
       "77       36     Female  77.11064  1.7526  25.104333\n",
       "38       46     Female  54.43104  1.6764  19.368292\n",
       "56       24       Male  81.64656  1.9304  21.910045\n",
       "75       47       Male  81.64656  1.7018  28.191673"
      ]
     },
     "execution_count": 8,
     "metadata": {},
     "output_type": "execute_result"
    }
   ],
   "source": [
    "print(train.shape)\n",
    "train.head()"
   ]
  },
  {
   "cell_type": "code",
   "execution_count": 9,
   "id": "63f36df9",
   "metadata": {},
   "outputs": [
    {
     "name": "stdout",
     "output_type": "stream",
     "text": [
      "(15, 5)\n"
     ]
    },
    {
     "data": {
      "text/html": [
       "<div>\n",
       "<style scoped>\n",
       "    .dataframe tbody tr th:only-of-type {\n",
       "        vertical-align: middle;\n",
       "    }\n",
       "\n",
       "    .dataframe tbody tr th {\n",
       "        vertical-align: top;\n",
       "    }\n",
       "\n",
       "    .dataframe thead th {\n",
       "        text-align: right;\n",
       "    }\n",
       "</style>\n",
       "<table border=\"1\" class=\"dataframe\">\n",
       "  <thead>\n",
       "    <tr style=\"text-align: right;\">\n",
       "      <th></th>\n",
       "      <th>Ins_Age</th>\n",
       "      <th>Ins_Gender</th>\n",
       "      <th>Wt_kg</th>\n",
       "      <th>Ht_m</th>\n",
       "      <th>BMI</th>\n",
       "    </tr>\n",
       "  </thead>\n",
       "  <tbody>\n",
       "    <tr>\n",
       "      <th>8</th>\n",
       "      <td>40</td>\n",
       "      <td>Female</td>\n",
       "      <td>70.30676</td>\n",
       "      <td>1.8288</td>\n",
       "      <td>21.021546</td>\n",
       "    </tr>\n",
       "    <tr>\n",
       "      <th>70</th>\n",
       "      <td>37</td>\n",
       "      <td>Male</td>\n",
       "      <td>72.57472</td>\n",
       "      <td>1.6764</td>\n",
       "      <td>25.824390</td>\n",
       "    </tr>\n",
       "    <tr>\n",
       "      <th>82</th>\n",
       "      <td>36</td>\n",
       "      <td>Male</td>\n",
       "      <td>63.50288</td>\n",
       "      <td>1.5748</td>\n",
       "      <td>25.606051</td>\n",
       "    </tr>\n",
       "    <tr>\n",
       "      <th>28</th>\n",
       "      <td>19</td>\n",
       "      <td>Female</td>\n",
       "      <td>77.11064</td>\n",
       "      <td>1.8542</td>\n",
       "      <td>22.428548</td>\n",
       "    </tr>\n",
       "    <tr>\n",
       "      <th>63</th>\n",
       "      <td>21</td>\n",
       "      <td>Male</td>\n",
       "      <td>72.57472</td>\n",
       "      <td>1.6002</td>\n",
       "      <td>28.342414</td>\n",
       "    </tr>\n",
       "  </tbody>\n",
       "</table>\n",
       "</div>"
      ],
      "text/plain": [
       "    Ins_Age Ins_Gender     Wt_kg    Ht_m        BMI\n",
       "8        40     Female  70.30676  1.8288  21.021546\n",
       "70       37       Male  72.57472  1.6764  25.824390\n",
       "82       36       Male  63.50288  1.5748  25.606051\n",
       "28       19     Female  77.11064  1.8542  22.428548\n",
       "63       21       Male  72.57472  1.6002  28.342414"
      ]
     },
     "execution_count": 9,
     "metadata": {},
     "output_type": "execute_result"
    }
   ],
   "source": [
    "print(test.shape)\n",
    "test.head()"
   ]
  },
  {
   "cell_type": "markdown",
   "id": "0cb6e9cb",
   "metadata": {},
   "source": [
    "### Scale Continous features"
   ]
  },
  {
   "cell_type": "code",
   "execution_count": 10,
   "id": "8928a394",
   "metadata": {},
   "outputs": [
    {
     "name": "stderr",
     "output_type": "stream",
     "text": [
      "C:\\Users\\mzrwlw\\Anaconda3\\lib\\site-packages\\pandas\\core\\frame.py:3678: SettingWithCopyWarning: \n",
      "A value is trying to be set on a copy of a slice from a DataFrame.\n",
      "Try using .loc[row_indexer,col_indexer] = value instead\n",
      "\n",
      "See the caveats in the documentation: https://pandas.pydata.org/pandas-docs/stable/user_guide/indexing.html#returning-a-view-versus-a-copy\n",
      "  self[col] = igetitem(value, i)\n",
      "C:\\Users\\mzrwlw\\Anaconda3\\lib\\site-packages\\pandas\\core\\frame.py:3678: SettingWithCopyWarning: \n",
      "A value is trying to be set on a copy of a slice from a DataFrame.\n",
      "Try using .loc[row_indexer,col_indexer] = value instead\n",
      "\n",
      "See the caveats in the documentation: https://pandas.pydata.org/pandas-docs/stable/user_guide/indexing.html#returning-a-view-versus-a-copy\n",
      "  self[col] = igetitem(value, i)\n"
     ]
    },
    {
     "data": {
      "text/html": [
       "<div>\n",
       "<style scoped>\n",
       "    .dataframe tbody tr th:only-of-type {\n",
       "        vertical-align: middle;\n",
       "    }\n",
       "\n",
       "    .dataframe tbody tr th {\n",
       "        vertical-align: top;\n",
       "    }\n",
       "\n",
       "    .dataframe thead th {\n",
       "        text-align: right;\n",
       "    }\n",
       "</style>\n",
       "<table border=\"1\" class=\"dataframe\">\n",
       "  <thead>\n",
       "    <tr style=\"text-align: right;\">\n",
       "      <th></th>\n",
       "      <th>Ins_Age</th>\n",
       "      <th>Ins_Gender</th>\n",
       "      <th>Wt_kg</th>\n",
       "      <th>Ht_m</th>\n",
       "      <th>BMI</th>\n",
       "    </tr>\n",
       "  </thead>\n",
       "  <tbody>\n",
       "    <tr>\n",
       "      <th>42</th>\n",
       "      <td>19</td>\n",
       "      <td>Female</td>\n",
       "      <td>0.576398</td>\n",
       "      <td>0.879392</td>\n",
       "      <td>25.104626</td>\n",
       "    </tr>\n",
       "    <tr>\n",
       "      <th>77</th>\n",
       "      <td>36</td>\n",
       "      <td>Female</td>\n",
       "      <td>0.205794</td>\n",
       "      <td>0.440985</td>\n",
       "      <td>25.104333</td>\n",
       "    </tr>\n",
       "    <tr>\n",
       "      <th>38</th>\n",
       "      <td>46</td>\n",
       "      <td>Female</td>\n",
       "      <td>-1.647224</td>\n",
       "      <td>-0.216624</td>\n",
       "      <td>19.368292</td>\n",
       "    </tr>\n",
       "    <tr>\n",
       "      <th>56</th>\n",
       "      <td>24</td>\n",
       "      <td>Male</td>\n",
       "      <td>0.576398</td>\n",
       "      <td>1.975408</td>\n",
       "      <td>21.910045</td>\n",
       "    </tr>\n",
       "    <tr>\n",
       "      <th>75</th>\n",
       "      <td>47</td>\n",
       "      <td>Male</td>\n",
       "      <td>0.576398</td>\n",
       "      <td>0.002579</td>\n",
       "      <td>28.191673</td>\n",
       "    </tr>\n",
       "  </tbody>\n",
       "</table>\n",
       "</div>"
      ],
      "text/plain": [
       "    Ins_Age Ins_Gender     Wt_kg      Ht_m        BMI\n",
       "42       19     Female  0.576398  0.879392  25.104626\n",
       "77       36     Female  0.205794  0.440985  25.104333\n",
       "38       46     Female -1.647224 -0.216624  19.368292\n",
       "56       24       Male  0.576398  1.975408  21.910045\n",
       "75       47       Male  0.576398  0.002579  28.191673"
      ]
     },
     "execution_count": 10,
     "metadata": {},
     "output_type": "execute_result"
    }
   ],
   "source": [
    "continous_features = ['Ht_m', 'Wt_kg']\n",
    "scaler = StandardScaler()\n",
    "scaler.fit(train[continous_features])\n",
    "train[continous_features] = scaler.transform(train[continous_features])\n",
    "test[continous_features] = scaler.transform(test[continous_features])\n",
    "train.head()"
   ]
  },
  {
   "cell_type": "code",
   "execution_count": 11,
   "id": "8af0478d",
   "metadata": {},
   "outputs": [
    {
     "data": {
      "text/html": [
       "<div>\n",
       "<style scoped>\n",
       "    .dataframe tbody tr th:only-of-type {\n",
       "        vertical-align: middle;\n",
       "    }\n",
       "\n",
       "    .dataframe tbody tr th {\n",
       "        vertical-align: top;\n",
       "    }\n",
       "\n",
       "    .dataframe thead th {\n",
       "        text-align: right;\n",
       "    }\n",
       "</style>\n",
       "<table border=\"1\" class=\"dataframe\">\n",
       "  <thead>\n",
       "    <tr style=\"text-align: right;\">\n",
       "      <th></th>\n",
       "      <th>Ins_Age</th>\n",
       "      <th>Ins_Gender</th>\n",
       "      <th>Wt_kg</th>\n",
       "      <th>Ht_m</th>\n",
       "      <th>BMI</th>\n",
       "    </tr>\n",
       "  </thead>\n",
       "  <tbody>\n",
       "    <tr>\n",
       "      <th>8</th>\n",
       "      <td>40</td>\n",
       "      <td>Female</td>\n",
       "      <td>-0.350111</td>\n",
       "      <td>1.098595</td>\n",
       "      <td>21.021546</td>\n",
       "    </tr>\n",
       "    <tr>\n",
       "      <th>70</th>\n",
       "      <td>37</td>\n",
       "      <td>Male</td>\n",
       "      <td>-0.164810</td>\n",
       "      <td>-0.216624</td>\n",
       "      <td>25.824390</td>\n",
       "    </tr>\n",
       "    <tr>\n",
       "      <th>82</th>\n",
       "      <td>36</td>\n",
       "      <td>Male</td>\n",
       "      <td>-0.906017</td>\n",
       "      <td>-1.093437</td>\n",
       "      <td>25.606051</td>\n",
       "    </tr>\n",
       "    <tr>\n",
       "      <th>28</th>\n",
       "      <td>19</td>\n",
       "      <td>Female</td>\n",
       "      <td>0.205794</td>\n",
       "      <td>1.317798</td>\n",
       "      <td>22.428548</td>\n",
       "    </tr>\n",
       "    <tr>\n",
       "      <th>63</th>\n",
       "      <td>21</td>\n",
       "      <td>Male</td>\n",
       "      <td>-0.164810</td>\n",
       "      <td>-0.874234</td>\n",
       "      <td>28.342414</td>\n",
       "    </tr>\n",
       "  </tbody>\n",
       "</table>\n",
       "</div>"
      ],
      "text/plain": [
       "    Ins_Age Ins_Gender     Wt_kg      Ht_m        BMI\n",
       "8        40     Female -0.350111  1.098595  21.021546\n",
       "70       37       Male -0.164810 -0.216624  25.824390\n",
       "82       36       Male -0.906017 -1.093437  25.606051\n",
       "28       19     Female  0.205794  1.317798  22.428548\n",
       "63       21       Male -0.164810 -0.874234  28.342414"
      ]
     },
     "execution_count": 11,
     "metadata": {},
     "output_type": "execute_result"
    }
   ],
   "source": [
    "test.head()"
   ]
  },
  {
   "cell_type": "markdown",
   "id": "297de9a2",
   "metadata": {},
   "source": [
    "### Input Feature Distributions"
   ]
  },
  {
   "cell_type": "code",
   "execution_count": 12,
   "id": "b3142517",
   "metadata": {},
   "outputs": [
    {
     "data": {
      "text/plain": [
       "<AxesSubplot:>"
      ]
     },
     "execution_count": 12,
     "metadata": {},
     "output_type": "execute_result"
    },
    {
     "data": {
      "image/png": "[encoded data removed]",
      "text/plain": [
       "<Figure size 432x288 with 1 Axes>"
      ]
     },
     "metadata": {
      "needs_background": "light"
     },
     "output_type": "display_data"
    }
   ],
   "source": [
    "train['Wt_kg'].plot.box()"
   ]
  },
  {
   "cell_type": "code",
   "execution_count": 13,
   "id": "b98d4a1e",
   "metadata": {},
   "outputs": [
    {
     "data": {
      "text/plain": [
       "<AxesSubplot:>"
      ]
     },
     "execution_count": 13,
     "metadata": {},
     "output_type": "execute_result"
    },
    {
     "data": {
      "image/png": "[encoded data removed]",
      "text/plain": [
       "<Figure size 432x288 with 1 Axes>"
      ]
     },
     "metadata": {
      "needs_background": "light"
     },
     "output_type": "display_data"
    }
   ],
   "source": [
    "train['Wt_kg'].hist()"
   ]
  },
  {
   "cell_type": "code",
   "execution_count": 14,
   "id": "4d2f85b5",
   "metadata": {},
   "outputs": [
    {
     "data": {
      "text/plain": [
       "<AxesSubplot:>"
      ]
     },
     "execution_count": 14,
     "metadata": {},
     "output_type": "execute_result"
    },
    {
     "data": {
      "image/png": "[encoded data removed]",
      "text/plain": [
       "<Figure size 432x288 with 1 Axes>"
      ]
     },
     "metadata": {
      "needs_background": "light"
     },
     "output_type": "display_data"
    }
   ],
   "source": [
    "train['Ht_m'].plot.box()"
   ]
  },
  {
   "cell_type": "code",
   "execution_count": 15,
   "id": "c79311a0",
   "metadata": {},
   "outputs": [
    {
     "data": {
      "text/plain": [
       "<AxesSubplot:>"
      ]
     },
     "execution_count": 15,
     "metadata": {},
     "output_type": "execute_result"
    },
    {
     "data": {
      "image/png": "[encoded data removed]",
      "text/plain": [
       "<Figure size 432x288 with 1 Axes>"
      ]
     },
     "metadata": {
      "needs_background": "light"
     },
     "output_type": "display_data"
    }
   ],
   "source": [
    "train['Ht_m'].hist()"
   ]
  },
  {
   "cell_type": "markdown",
   "id": "79ab6a22",
   "metadata": {},
   "source": [
    "### Evaluate models using cross validation and also calculate test dataset score"
   ]
  },
  {
   "cell_type": "code",
   "execution_count": 16,
   "id": "2db9874f",
   "metadata": {},
   "outputs": [
    {
     "name": "stdout",
     "output_type": "stream",
     "text": [
      "R2 across 5 score arr [0.98736258 0.97255642 0.98273183 0.98547715 0.9708301 ]\n",
      "Avg R2 for cross validation: 0.979791618808078\n",
      "R2 for test set 0.96820093242257\n"
     ]
    }
   ],
   "source": [
    "lin_regressor = LinearRegression()\n",
    "score_arr = cross_val_score(lin_regressor,\n",
    "                            train[continous_features],\n",
    "                            train['BMI'],\n",
    "                            cv=K_CROSS_VAL,\n",
    "                            scoring=SCORING)\n",
    "print(f'R2 across {K_CROSS_VAL} score arr {score_arr}')\n",
    "print(f'Avg R2 for cross validation: {sum(score_arr)/K_CROSS_VAL}')\n",
    "lin_regressor = LinearRegression().fit(train[continous_features], train['BMI'])\n",
    "y_pred = lin_regressor.predict(test[continous_features])\n",
    "r2_test = r2_score(test['BMI'], y_pred)\n",
    "print(f'R2 for test set {r2_test}')"
   ]
  },
  {
   "cell_type": "code",
   "execution_count": 17,
   "id": "1dddbb43",
   "metadata": {},
   "outputs": [
    {
     "name": "stdout",
     "output_type": "stream",
     "text": [
      "R2 across 5 score arr [0.96710477 0.19853876 0.87052928 0.95072015 0.8721909 ]\n",
      "Avg R2: 0.7718167720548602\n",
      "R2 for test set 0.8143370757933495\n"
     ]
    }
   ],
   "source": [
    "svm_regressor = SVR(kernel = 'rbf')\n",
    "score_arr = cross_val_score(svm_regressor,\n",
    "                            train[continous_features],\n",
    "                            train['BMI'],\n",
    "                            cv=K_CROSS_VAL,\n",
    "                            scoring=SCORING)\n",
    "print(f'R2 across {K_CROSS_VAL} score arr {score_arr}')\n",
    "print(f'Avg R2: {sum(score_arr)/K_CROSS_VAL}')\n",
    "svm_regressor = SVR().fit(train[continous_features], train['BMI'])\n",
    "y_pred = svm_regressor.predict(test[continous_features])\n",
    "r2_test = r2_score(test['BMI'], y_pred)\n",
    "print(f'R2 for test set {r2_test}')"
   ]
  },
  {
   "cell_type": "markdown",
   "id": "bc1c639f",
   "metadata": {},
   "source": [
    "### Looking at above celss, Linear Regression seems to be outperforming SVR."
   ]
  },
  {
   "cell_type": "markdown",
   "id": "c77ff813",
   "metadata": {},
   "source": [
    "### Save Model and Scaler as pickles for offline usage"
   ]
  },
  {
   "cell_type": "code",
   "execution_count": 18,
   "id": "53df7b5d",
   "metadata": {},
   "outputs": [],
   "source": [
    "LIN_REG_MODEL_PATH = 'models/linear_reg.pickle'\n",
    "SCALER_PATH = 'models/scaler.pickle'\n",
    "WRITE_MODE = 'wb'\n",
    "pickle.dump(lin_regressor, open(LIN_REG_MODEL_PATH, WRITE_MODE))\n",
    "pickle.dump(scaler, open(SCALER_PATH, WRITE_MODE))"
   ]
  },
  {
   "cell_type": "markdown",
   "id": "388007e5",
   "metadata": {},
   "source": [
    "### Check whether pickle work correctly for inference or not"
   ]
  },
  {
   "cell_type": "code",
   "execution_count": 19,
   "id": "479f80de",
   "metadata": {},
   "outputs": [
    {
     "name": "stdout",
     "output_type": "stream",
     "text": [
      "Predicted BMI: 25.612659938528836\n",
      "Original BMI: 25.180785123966942\n"
     ]
    }
   ],
   "source": [
    "READ_MODE = 'rb'\n",
    "loaded_model = pickle.load(open(LIN_REG_MODEL_PATH, READ_MODE))\n",
    "loaded_scaler = pickle.load(open(SCALER_PATH, READ_MODE))\n",
    "\n",
    "my_weight_kg = 78\n",
    "my_height_m = 1.76\n",
    "\n",
    "df = pd.DataFrame({'Ht_m': [my_height_m], 'Wt_kg': [my_weight_kg]})\n",
    "df_scaled = loaded_scaler.transform(df)\n",
    "BMI_pred = loaded_model.predict(df_scaled).tolist()[0]\n",
    "print(f'Predicted BMI: {BMI_pred}')\n",
    "BMI_original = (my_weight_kg)/(my_height_m**2)\n",
    "print(f'Original BMI: {BMI_original}')"
   ]
  }
 ],
 "metadata": {
  "kernelspec": {
   "display_name": "Python 3 (ipykernel)",
   "language": "python",
   "name": "python3"
  },
  "language_info": {
   "codemirror_mode": {
    "name": "ipython",
    "version": 3
   },
   "file_extension": ".py",
   "mimetype": "text/x-python",
   "name": "python",
   "nbconvert_exporter": "python",
   "pygments_lexer": "ipython3",
   "version": "3.9.7"
  }
 },
 "nbformat": 4,
 "nbformat_minor": 5
}
