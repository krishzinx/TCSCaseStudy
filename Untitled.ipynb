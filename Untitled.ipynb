{
 "cells": [
  {
   "cell_type": "code",
   "execution_count": 102,
   "id": "2d2cf5ba",
   "metadata": {},
   "outputs": [],
   "source": [
    "import numpy.random as nr\n",
    "import pandas as pd\n",
    "\n",
    "from sklearn.linear_model import LinearRegression\n",
    "from sklearn.model_selection import train_test_split\n",
    "from sklearn.preprocessing import MinMaxScaler\n",
    "from sklearn.metrics import mean_squared_error"
   ]
  },
  {
   "cell_type": "markdown",
   "id": "6ecc5bb3",
   "metadata": {},
   "source": [
    "### Read Data Frame"
   ]
  },
  {
   "cell_type": "code",
   "execution_count": 103,
   "id": "8246a124",
   "metadata": {
    "scrolled": true
   },
   "outputs": [
    {
     "data": {
      "text/html": [
       "<div>\n",
       "<style scoped>\n",
       "    .dataframe tbody tr th:only-of-type {\n",
       "        vertical-align: middle;\n",
       "    }\n",
       "\n",
       "    .dataframe tbody tr th {\n",
       "        vertical-align: top;\n",
       "    }\n",
       "\n",
       "    .dataframe thead th {\n",
       "        text-align: right;\n",
       "    }\n",
       "</style>\n",
       "<table border=\"1\" class=\"dataframe\">\n",
       "  <thead>\n",
       "    <tr style=\"text-align: right;\">\n",
       "      <th></th>\n",
       "      <th>AppID</th>\n",
       "      <th>Ins_Age</th>\n",
       "      <th>Ins_Gender</th>\n",
       "      <th>Ht</th>\n",
       "      <th>Wt</th>\n",
       "      <th>IssueDate</th>\n",
       "    </tr>\n",
       "  </thead>\n",
       "  <tbody>\n",
       "    <tr>\n",
       "      <th>0</th>\n",
       "      <td>56372</td>\n",
       "      <td>31</td>\n",
       "      <td>Male</td>\n",
       "      <td>510</td>\n",
       "      <td>185</td>\n",
       "      <td>NaN</td>\n",
       "    </tr>\n",
       "    <tr>\n",
       "      <th>1</th>\n",
       "      <td>34565</td>\n",
       "      <td>35</td>\n",
       "      <td>Male</td>\n",
       "      <td>510</td>\n",
       "      <td>205</td>\n",
       "      <td>NaN</td>\n",
       "    </tr>\n",
       "    <tr>\n",
       "      <th>2</th>\n",
       "      <td>57732</td>\n",
       "      <td>45</td>\n",
       "      <td>Female</td>\n",
       "      <td>510</td>\n",
       "      <td>125</td>\n",
       "      <td>NaN</td>\n",
       "    </tr>\n",
       "    <tr>\n",
       "      <th>3</th>\n",
       "      <td>87324</td>\n",
       "      <td>38</td>\n",
       "      <td>Male</td>\n",
       "      <td>503</td>\n",
       "      <td>175</td>\n",
       "      <td>NaN</td>\n",
       "    </tr>\n",
       "    <tr>\n",
       "      <th>4</th>\n",
       "      <td>12323</td>\n",
       "      <td>39</td>\n",
       "      <td>Female</td>\n",
       "      <td>600</td>\n",
       "      <td>252</td>\n",
       "      <td>NaN</td>\n",
       "    </tr>\n",
       "  </tbody>\n",
       "</table>\n",
       "</div>"
      ],
      "text/plain": [
       "   AppID  Ins_Age Ins_Gender   Ht   Wt  IssueDate\n",
       "0  56372       31       Male  510  185        NaN\n",
       "1  34565       35       Male  510  205        NaN\n",
       "2  57732       45     Female  510  125        NaN\n",
       "3  87324       38       Male  503  175        NaN\n",
       "4  12323       39     Female  600  252        NaN"
      ]
     },
     "execution_count": 103,
     "metadata": {},
     "output_type": "execute_result"
    }
   ],
   "source": [
    "df = pd.read_csv('data/Dummy-Data.csv')\n",
    "df.head()"
   ]
  },
  {
   "cell_type": "markdown",
   "id": "a3172673",
   "metadata": {},
   "source": [
    "### Convert Weight to Kg from Pounds"
   ]
  },
  {
   "cell_type": "code",
   "execution_count": 104,
   "id": "31129e3b",
   "metadata": {},
   "outputs": [
    {
     "data": {
      "text/html": [
       "<div>\n",
       "<style scoped>\n",
       "    .dataframe tbody tr th:only-of-type {\n",
       "        vertical-align: middle;\n",
       "    }\n",
       "\n",
       "    .dataframe tbody tr th {\n",
       "        vertical-align: top;\n",
       "    }\n",
       "\n",
       "    .dataframe thead th {\n",
       "        text-align: right;\n",
       "    }\n",
       "</style>\n",
       "<table border=\"1\" class=\"dataframe\">\n",
       "  <thead>\n",
       "    <tr style=\"text-align: right;\">\n",
       "      <th></th>\n",
       "      <th>AppID</th>\n",
       "      <th>Ins_Age</th>\n",
       "      <th>Ins_Gender</th>\n",
       "      <th>Ht</th>\n",
       "      <th>Wt</th>\n",
       "      <th>IssueDate</th>\n",
       "      <th>Wt_kg</th>\n",
       "    </tr>\n",
       "  </thead>\n",
       "  <tbody>\n",
       "    <tr>\n",
       "      <th>0</th>\n",
       "      <td>56372</td>\n",
       "      <td>31</td>\n",
       "      <td>Male</td>\n",
       "      <td>510</td>\n",
       "      <td>185</td>\n",
       "      <td>NaN</td>\n",
       "      <td>83.914520</td>\n",
       "    </tr>\n",
       "    <tr>\n",
       "      <th>1</th>\n",
       "      <td>34565</td>\n",
       "      <td>35</td>\n",
       "      <td>Male</td>\n",
       "      <td>510</td>\n",
       "      <td>205</td>\n",
       "      <td>NaN</td>\n",
       "      <td>92.986360</td>\n",
       "    </tr>\n",
       "    <tr>\n",
       "      <th>2</th>\n",
       "      <td>57732</td>\n",
       "      <td>45</td>\n",
       "      <td>Female</td>\n",
       "      <td>510</td>\n",
       "      <td>125</td>\n",
       "      <td>NaN</td>\n",
       "      <td>56.699000</td>\n",
       "    </tr>\n",
       "    <tr>\n",
       "      <th>3</th>\n",
       "      <td>87324</td>\n",
       "      <td>38</td>\n",
       "      <td>Male</td>\n",
       "      <td>503</td>\n",
       "      <td>175</td>\n",
       "      <td>NaN</td>\n",
       "      <td>79.378600</td>\n",
       "    </tr>\n",
       "    <tr>\n",
       "      <th>4</th>\n",
       "      <td>12323</td>\n",
       "      <td>39</td>\n",
       "      <td>Female</td>\n",
       "      <td>600</td>\n",
       "      <td>252</td>\n",
       "      <td>NaN</td>\n",
       "      <td>114.305184</td>\n",
       "    </tr>\n",
       "  </tbody>\n",
       "</table>\n",
       "</div>"
      ],
      "text/plain": [
       "   AppID  Ins_Age Ins_Gender   Ht   Wt  IssueDate       Wt_kg\n",
       "0  56372       31       Male  510  185        NaN   83.914520\n",
       "1  34565       35       Male  510  205        NaN   92.986360\n",
       "2  57732       45     Female  510  125        NaN   56.699000\n",
       "3  87324       38       Male  503  175        NaN   79.378600\n",
       "4  12323       39     Female  600  252        NaN  114.305184"
      ]
     },
     "execution_count": 104,
     "metadata": {},
     "output_type": "execute_result"
    }
   ],
   "source": [
    "ground_truth_df = df\n",
    "ground_truth_df['Wt_kg'] = 0.453592*df['Wt']\n",
    "ground_truth_df.head()"
   ]
  },
  {
   "cell_type": "markdown",
   "id": "6801ed2c",
   "metadata": {},
   "source": [
    "### Convert Height from feet to metre"
   ]
  },
  {
   "cell_type": "code",
   "execution_count": 105,
   "id": "fa5abe8f",
   "metadata": {},
   "outputs": [
    {
     "data": {
      "text/html": [
       "<div>\n",
       "<style scoped>\n",
       "    .dataframe tbody tr th:only-of-type {\n",
       "        vertical-align: middle;\n",
       "    }\n",
       "\n",
       "    .dataframe tbody tr th {\n",
       "        vertical-align: top;\n",
       "    }\n",
       "\n",
       "    .dataframe thead th {\n",
       "        text-align: right;\n",
       "    }\n",
       "</style>\n",
       "<table border=\"1\" class=\"dataframe\">\n",
       "  <thead>\n",
       "    <tr style=\"text-align: right;\">\n",
       "      <th></th>\n",
       "      <th>AppID</th>\n",
       "      <th>Ins_Age</th>\n",
       "      <th>Ins_Gender</th>\n",
       "      <th>Ht</th>\n",
       "      <th>Wt</th>\n",
       "      <th>IssueDate</th>\n",
       "      <th>Wt_kg</th>\n",
       "      <th>Ht_modified</th>\n",
       "      <th>Ht_ft</th>\n",
       "      <th>Ht_in</th>\n",
       "      <th>Ht_m</th>\n",
       "    </tr>\n",
       "  </thead>\n",
       "  <tbody>\n",
       "    <tr>\n",
       "      <th>0</th>\n",
       "      <td>56372</td>\n",
       "      <td>31</td>\n",
       "      <td>Male</td>\n",
       "      <td>510</td>\n",
       "      <td>185</td>\n",
       "      <td>NaN</td>\n",
       "      <td>83.914520</td>\n",
       "      <td>5.1</td>\n",
       "      <td>5</td>\n",
       "      <td>1</td>\n",
       "      <td>1.5494</td>\n",
       "    </tr>\n",
       "    <tr>\n",
       "      <th>1</th>\n",
       "      <td>34565</td>\n",
       "      <td>35</td>\n",
       "      <td>Male</td>\n",
       "      <td>510</td>\n",
       "      <td>205</td>\n",
       "      <td>NaN</td>\n",
       "      <td>92.986360</td>\n",
       "      <td>5.1</td>\n",
       "      <td>5</td>\n",
       "      <td>1</td>\n",
       "      <td>1.5494</td>\n",
       "    </tr>\n",
       "    <tr>\n",
       "      <th>2</th>\n",
       "      <td>57732</td>\n",
       "      <td>45</td>\n",
       "      <td>Female</td>\n",
       "      <td>510</td>\n",
       "      <td>125</td>\n",
       "      <td>NaN</td>\n",
       "      <td>56.699000</td>\n",
       "      <td>5.1</td>\n",
       "      <td>5</td>\n",
       "      <td>1</td>\n",
       "      <td>1.5494</td>\n",
       "    </tr>\n",
       "    <tr>\n",
       "      <th>3</th>\n",
       "      <td>87324</td>\n",
       "      <td>38</td>\n",
       "      <td>Male</td>\n",
       "      <td>503</td>\n",
       "      <td>175</td>\n",
       "      <td>NaN</td>\n",
       "      <td>79.378600</td>\n",
       "      <td>5.03</td>\n",
       "      <td>5</td>\n",
       "      <td>3</td>\n",
       "      <td>1.6002</td>\n",
       "    </tr>\n",
       "    <tr>\n",
       "      <th>4</th>\n",
       "      <td>12323</td>\n",
       "      <td>39</td>\n",
       "      <td>Female</td>\n",
       "      <td>600</td>\n",
       "      <td>252</td>\n",
       "      <td>NaN</td>\n",
       "      <td>114.305184</td>\n",
       "      <td>6.0</td>\n",
       "      <td>6</td>\n",
       "      <td>0</td>\n",
       "      <td>1.8288</td>\n",
       "    </tr>\n",
       "  </tbody>\n",
       "</table>\n",
       "</div>"
      ],
      "text/plain": [
       "   AppID  Ins_Age Ins_Gender   Ht   Wt  IssueDate       Wt_kg Ht_modified  \\\n",
       "0  56372       31       Male  510  185        NaN   83.914520         5.1   \n",
       "1  34565       35       Male  510  205        NaN   92.986360         5.1   \n",
       "2  57732       45     Female  510  125        NaN   56.699000         5.1   \n",
       "3  87324       38       Male  503  175        NaN   79.378600        5.03   \n",
       "4  12323       39     Female  600  252        NaN  114.305184         6.0   \n",
       "\n",
       "   Ht_ft  Ht_in    Ht_m  \n",
       "0      5      1  1.5494  \n",
       "1      5      1  1.5494  \n",
       "2      5      1  1.5494  \n",
       "3      5      3  1.6002  \n",
       "4      6      0  1.8288  "
      ]
     },
     "execution_count": 105,
     "metadata": {},
     "output_type": "execute_result"
    }
   ],
   "source": [
    "ground_truth_df['Ht_modified'] = (ground_truth_df['Ht']/100).astype(str)\n",
    "ground_truth_df[['Ht_ft', 'Ht_in']] = ground_truth_df['Ht_modified'].str.split('.', 1, expand=True)\n",
    "ground_truth_df['Ht_ft'] = ground_truth_df['Ht_ft'].astype(int)\n",
    "ground_truth_df['Ht_in'] = ground_truth_df['Ht_in'].astype(int)\n",
    "ground_truth_df['Ht_m'] = ground_truth_df['Ht_ft']*0.3048 + ground_truth_df['Ht_in']*0.0254\n",
    "ground_truth_df.head()"
   ]
  },
  {
   "cell_type": "markdown",
   "id": "93bd7840",
   "metadata": {},
   "source": [
    "### Calcucalte BMI and prepare dataframe for ground truth"
   ]
  },
  {
   "cell_type": "code",
   "execution_count": 106,
   "id": "5b0f5375",
   "metadata": {},
   "outputs": [
    {
     "data": {
      "text/html": [
       "<div>\n",
       "<style scoped>\n",
       "    .dataframe tbody tr th:only-of-type {\n",
       "        vertical-align: middle;\n",
       "    }\n",
       "\n",
       "    .dataframe tbody tr th {\n",
       "        vertical-align: top;\n",
       "    }\n",
       "\n",
       "    .dataframe thead th {\n",
       "        text-align: right;\n",
       "    }\n",
       "</style>\n",
       "<table border=\"1\" class=\"dataframe\">\n",
       "  <thead>\n",
       "    <tr style=\"text-align: right;\">\n",
       "      <th></th>\n",
       "      <th>Ins_Age</th>\n",
       "      <th>Ins_Gender</th>\n",
       "      <th>Wt_kg</th>\n",
       "      <th>Ht_m</th>\n",
       "      <th>BMI</th>\n",
       "    </tr>\n",
       "  </thead>\n",
       "  <tbody>\n",
       "    <tr>\n",
       "      <th>0</th>\n",
       "      <td>31</td>\n",
       "      <td>Male</td>\n",
       "      <td>83.914520</td>\n",
       "      <td>1.5494</td>\n",
       "      <td>34.955057</td>\n",
       "    </tr>\n",
       "    <tr>\n",
       "      <th>1</th>\n",
       "      <td>35</td>\n",
       "      <td>Male</td>\n",
       "      <td>92.986360</td>\n",
       "      <td>1.5494</td>\n",
       "      <td>38.733982</td>\n",
       "    </tr>\n",
       "    <tr>\n",
       "      <th>2</th>\n",
       "      <td>45</td>\n",
       "      <td>Female</td>\n",
       "      <td>56.699000</td>\n",
       "      <td>1.5494</td>\n",
       "      <td>23.618282</td>\n",
       "    </tr>\n",
       "    <tr>\n",
       "      <th>3</th>\n",
       "      <td>38</td>\n",
       "      <td>Male</td>\n",
       "      <td>79.378600</td>\n",
       "      <td>1.6002</td>\n",
       "      <td>30.999515</td>\n",
       "    </tr>\n",
       "    <tr>\n",
       "      <th>4</th>\n",
       "      <td>39</td>\n",
       "      <td>Female</td>\n",
       "      <td>114.305184</td>\n",
       "      <td>1.8288</td>\n",
       "      <td>34.176966</td>\n",
       "    </tr>\n",
       "  </tbody>\n",
       "</table>\n",
       "</div>"
      ],
      "text/plain": [
       "   Ins_Age Ins_Gender       Wt_kg    Ht_m        BMI\n",
       "0       31       Male   83.914520  1.5494  34.955057\n",
       "1       35       Male   92.986360  1.5494  38.733982\n",
       "2       45     Female   56.699000  1.5494  23.618282\n",
       "3       38       Male   79.378600  1.6002  30.999515\n",
       "4       39     Female  114.305184  1.8288  34.176966"
      ]
     },
     "execution_count": 106,
     "metadata": {},
     "output_type": "execute_result"
    }
   ],
   "source": [
    "ground_truth_df['BMI'] = ground_truth_df['Wt_kg']/(ground_truth_df['Ht_m']**2)\n",
    "ground_truth_df = ground_truth_df.drop(['AppID', 'Ht', 'Wt', 'IssueDate', 'Ht_modified', 'Ht_ft', 'Ht_in'], axis=1)\n",
    "ground_truth_df.head()"
   ]
  },
  {
   "cell_type": "markdown",
   "id": "cc9d1235",
   "metadata": {},
   "source": [
    "### Scale Continous features"
   ]
  },
  {
   "cell_type": "code",
   "execution_count": 107,
   "id": "4b6e5637",
   "metadata": {},
   "outputs": [
    {
     "data": {
      "text/html": [
       "<div>\n",
       "<style scoped>\n",
       "    .dataframe tbody tr th:only-of-type {\n",
       "        vertical-align: middle;\n",
       "    }\n",
       "\n",
       "    .dataframe tbody tr th {\n",
       "        vertical-align: top;\n",
       "    }\n",
       "\n",
       "    .dataframe thead th {\n",
       "        text-align: right;\n",
       "    }\n",
       "</style>\n",
       "<table border=\"1\" class=\"dataframe\">\n",
       "  <thead>\n",
       "    <tr style=\"text-align: right;\">\n",
       "      <th></th>\n",
       "      <th>Ins_Age</th>\n",
       "      <th>Ins_Gender</th>\n",
       "      <th>Wt_kg</th>\n",
       "      <th>Ht_m</th>\n",
       "      <th>BMI</th>\n",
       "    </tr>\n",
       "  </thead>\n",
       "  <tbody>\n",
       "    <tr>\n",
       "      <th>0</th>\n",
       "      <td>31</td>\n",
       "      <td>Male</td>\n",
       "      <td>0.454545</td>\n",
       "      <td>0.058824</td>\n",
       "      <td>34.955057</td>\n",
       "    </tr>\n",
       "    <tr>\n",
       "      <th>1</th>\n",
       "      <td>35</td>\n",
       "      <td>Male</td>\n",
       "      <td>0.575758</td>\n",
       "      <td>0.058824</td>\n",
       "      <td>38.733982</td>\n",
       "    </tr>\n",
       "    <tr>\n",
       "      <th>2</th>\n",
       "      <td>45</td>\n",
       "      <td>Female</td>\n",
       "      <td>0.090909</td>\n",
       "      <td>0.058824</td>\n",
       "      <td>23.618282</td>\n",
       "    </tr>\n",
       "    <tr>\n",
       "      <th>3</th>\n",
       "      <td>38</td>\n",
       "      <td>Male</td>\n",
       "      <td>0.393939</td>\n",
       "      <td>0.176471</td>\n",
       "      <td>30.999515</td>\n",
       "    </tr>\n",
       "    <tr>\n",
       "      <th>4</th>\n",
       "      <td>39</td>\n",
       "      <td>Female</td>\n",
       "      <td>0.860606</td>\n",
       "      <td>0.705882</td>\n",
       "      <td>34.176966</td>\n",
       "    </tr>\n",
       "  </tbody>\n",
       "</table>\n",
       "</div>"
      ],
      "text/plain": [
       "   Ins_Age Ins_Gender     Wt_kg      Ht_m        BMI\n",
       "0       31       Male  0.454545  0.058824  34.955057\n",
       "1       35       Male  0.575758  0.058824  38.733982\n",
       "2       45     Female  0.090909  0.058824  23.618282\n",
       "3       38       Male  0.393939  0.176471  30.999515\n",
       "4       39     Female  0.860606  0.705882  34.176966"
      ]
     },
     "execution_count": 107,
     "metadata": {},
     "output_type": "execute_result"
    }
   ],
   "source": [
    "continous_features = ['Ht_m', 'Wt_kg']\n",
    "scaler = MinMaxScaler()\n",
    "ground_truth_df[continous_features] = pd.DataFrame(scaler.fit_transform(ground_truth_df[continous_features]), columns=continous_features)\n",
    "ground_truth_df.head()"
   ]
  },
  {
   "cell_type": "markdown",
   "id": "552c46c9",
   "metadata": {},
   "source": [
    "### Input Feature Distributions"
   ]
  },
  {
   "cell_type": "code",
   "execution_count": 108,
   "id": "d269cb1d",
   "metadata": {},
   "outputs": [
    {
     "data": {
      "text/plain": [
       "<AxesSubplot:>"
      ]
     },
     "execution_count": 108,
     "metadata": {},
     "output_type": "execute_result"
    },
    {
     "data": {
      "image/png": "[encoded data removed]",
      "text/plain": [
       "<Figure size 432x288 with 1 Axes>"
      ]
     },
     "metadata": {
      "needs_background": "light"
     },
     "output_type": "display_data"
    }
   ],
   "source": [
    "ground_truth_df['Wt_kg'].plot.box()"
   ]
  },
  {
   "cell_type": "code",
   "execution_count": 109,
   "id": "4a1f6d5d",
   "metadata": {},
   "outputs": [
    {
     "data": {
      "text/plain": [
       "<AxesSubplot:>"
      ]
     },
     "execution_count": 109,
     "metadata": {},
     "output_type": "execute_result"
    },
    {
     "data": {
      "image/png": "[encoded data removed]",
      "text/plain": [
       "<Figure size 432x288 with 1 Axes>"
      ]
     },
     "metadata": {
      "needs_background": "light"
     },
     "output_type": "display_data"
    }
   ],
   "source": [
    "ground_truth_df['Wt_kg'].hist()"
   ]
  },
  {
   "cell_type": "code",
   "execution_count": 110,
   "id": "7343c532",
   "metadata": {},
   "outputs": [
    {
     "data": {
      "text/plain": [
       "<AxesSubplot:>"
      ]
     },
     "execution_count": 110,
     "metadata": {},
     "output_type": "execute_result"
    },
    {
     "data": {
      "image/png": "[encoded data removed]",
      "text/plain": [
       "<Figure size 432x288 with 1 Axes>"
      ]
     },
     "metadata": {
      "needs_background": "light"
     },
     "output_type": "display_data"
    }
   ],
   "source": [
    "ground_truth_df['Ht_m'].plot.box()"
   ]
  },
  {
   "cell_type": "code",
   "execution_count": 111,
   "id": "7ba2913e",
   "metadata": {},
   "outputs": [
    {
     "data": {
      "text/plain": [
       "<AxesSubplot:>"
      ]
     },
     "execution_count": 111,
     "metadata": {},
     "output_type": "execute_result"
    },
    {
     "data": {
      "image/png": "[encoded data removed]",
      "text/plain": [
       "<Figure size 432x288 with 1 Axes>"
      ]
     },
     "metadata": {
      "needs_background": "light"
     },
     "output_type": "display_data"
    }
   ],
   "source": [
    "ground_truth_df['Ht_m'].hist()"
   ]
  },
  {
   "cell_type": "markdown",
   "id": "753b00be",
   "metadata": {},
   "source": [
    "### Split Data into test and train"
   ]
  },
  {
   "cell_type": "code",
   "execution_count": 112,
   "id": "96440663",
   "metadata": {},
   "outputs": [],
   "source": [
    "RANDOM_SEED = 123\n",
    "TEST_SIZE = 0.2\n",
    "train, test = train_test_split(ground_truth_df, test_size=TEST_SIZE, random_state=RANDOM_SEED)"
   ]
  },
  {
   "cell_type": "code",
   "execution_count": 113,
   "id": "8e8db234",
   "metadata": {},
   "outputs": [
    {
     "name": "stdout",
     "output_type": "stream",
     "text": [
      "(80, 5)\n"
     ]
    },
    {
     "data": {
      "text/html": [
       "<div>\n",
       "<style scoped>\n",
       "    .dataframe tbody tr th:only-of-type {\n",
       "        vertical-align: middle;\n",
       "    }\n",
       "\n",
       "    .dataframe tbody tr th {\n",
       "        vertical-align: top;\n",
       "    }\n",
       "\n",
       "    .dataframe thead th {\n",
       "        text-align: right;\n",
       "    }\n",
       "</style>\n",
       "<table border=\"1\" class=\"dataframe\">\n",
       "  <thead>\n",
       "    <tr style=\"text-align: right;\">\n",
       "      <th></th>\n",
       "      <th>Ins_Age</th>\n",
       "      <th>Ins_Gender</th>\n",
       "      <th>Wt_kg</th>\n",
       "      <th>Ht_m</th>\n",
       "      <th>BMI</th>\n",
       "    </tr>\n",
       "  </thead>\n",
       "  <tbody>\n",
       "    <tr>\n",
       "      <th>35</th>\n",
       "      <td>55</td>\n",
       "      <td>Male</td>\n",
       "      <td>0.333333</td>\n",
       "      <td>0.647059</td>\n",
       "      <td>23.012574</td>\n",
       "    </tr>\n",
       "    <tr>\n",
       "      <th>88</th>\n",
       "      <td>21</td>\n",
       "      <td>Female</td>\n",
       "      <td>0.393939</td>\n",
       "      <td>0.352941</td>\n",
       "      <td>28.245426</td>\n",
       "    </tr>\n",
       "    <tr>\n",
       "      <th>19</th>\n",
       "      <td>31</td>\n",
       "      <td>Male</td>\n",
       "      <td>0.424242</td>\n",
       "      <td>0.176471</td>\n",
       "      <td>31.885216</td>\n",
       "    </tr>\n",
       "    <tr>\n",
       "      <th>29</th>\n",
       "      <td>19</td>\n",
       "      <td>Male</td>\n",
       "      <td>0.212121</td>\n",
       "      <td>0.000000</td>\n",
       "      <td>28.318057</td>\n",
       "    </tr>\n",
       "    <tr>\n",
       "      <th>31</th>\n",
       "      <td>57</td>\n",
       "      <td>Female</td>\n",
       "      <td>0.363636</td>\n",
       "      <td>0.764706</td>\n",
       "      <td>22.428548</td>\n",
       "    </tr>\n",
       "  </tbody>\n",
       "</table>\n",
       "</div>"
      ],
      "text/plain": [
       "    Ins_Age Ins_Gender     Wt_kg      Ht_m        BMI\n",
       "35       55       Male  0.333333  0.647059  23.012574\n",
       "88       21     Female  0.393939  0.352941  28.245426\n",
       "19       31       Male  0.424242  0.176471  31.885216\n",
       "29       19       Male  0.212121  0.000000  28.318057\n",
       "31       57     Female  0.363636  0.764706  22.428548"
      ]
     },
     "execution_count": 113,
     "metadata": {},
     "output_type": "execute_result"
    }
   ],
   "source": [
    "print(train.shape)\n",
    "train.head()"
   ]
  },
  {
   "cell_type": "code",
   "execution_count": 114,
   "id": "bb2f7989",
   "metadata": {},
   "outputs": [
    {
     "name": "stdout",
     "output_type": "stream",
     "text": [
      "(20, 5)\n"
     ]
    },
    {
     "data": {
      "text/html": [
       "<div>\n",
       "<style scoped>\n",
       "    .dataframe tbody tr th:only-of-type {\n",
       "        vertical-align: middle;\n",
       "    }\n",
       "\n",
       "    .dataframe tbody tr th {\n",
       "        vertical-align: top;\n",
       "    }\n",
       "\n",
       "    .dataframe thead th {\n",
       "        text-align: right;\n",
       "    }\n",
       "</style>\n",
       "<table border=\"1\" class=\"dataframe\">\n",
       "  <thead>\n",
       "    <tr style=\"text-align: right;\">\n",
       "      <th></th>\n",
       "      <th>Ins_Age</th>\n",
       "      <th>Ins_Gender</th>\n",
       "      <th>Wt_kg</th>\n",
       "      <th>Ht_m</th>\n",
       "      <th>BMI</th>\n",
       "    </tr>\n",
       "  </thead>\n",
       "  <tbody>\n",
       "    <tr>\n",
       "      <th>8</th>\n",
       "      <td>40</td>\n",
       "      <td>Female</td>\n",
       "      <td>0.272727</td>\n",
       "      <td>0.705882</td>\n",
       "      <td>21.021546</td>\n",
       "    </tr>\n",
       "    <tr>\n",
       "      <th>70</th>\n",
       "      <td>37</td>\n",
       "      <td>Male</td>\n",
       "      <td>0.303030</td>\n",
       "      <td>0.352941</td>\n",
       "      <td>25.824390</td>\n",
       "    </tr>\n",
       "    <tr>\n",
       "      <th>82</th>\n",
       "      <td>36</td>\n",
       "      <td>Male</td>\n",
       "      <td>0.181818</td>\n",
       "      <td>0.117647</td>\n",
       "      <td>25.606051</td>\n",
       "    </tr>\n",
       "    <tr>\n",
       "      <th>28</th>\n",
       "      <td>19</td>\n",
       "      <td>Female</td>\n",
       "      <td>0.363636</td>\n",
       "      <td>0.764706</td>\n",
       "      <td>22.428548</td>\n",
       "    </tr>\n",
       "    <tr>\n",
       "      <th>63</th>\n",
       "      <td>21</td>\n",
       "      <td>Male</td>\n",
       "      <td>0.303030</td>\n",
       "      <td>0.176471</td>\n",
       "      <td>28.342414</td>\n",
       "    </tr>\n",
       "  </tbody>\n",
       "</table>\n",
       "</div>"
      ],
      "text/plain": [
       "    Ins_Age Ins_Gender     Wt_kg      Ht_m        BMI\n",
       "8        40     Female  0.272727  0.705882  21.021546\n",
       "70       37       Male  0.303030  0.352941  25.824390\n",
       "82       36       Male  0.181818  0.117647  25.606051\n",
       "28       19     Female  0.363636  0.764706  22.428548\n",
       "63       21       Male  0.303030  0.176471  28.342414"
      ]
     },
     "execution_count": 114,
     "metadata": {},
     "output_type": "execute_result"
    }
   ],
   "source": [
    "print(test.shape)\n",
    "test.head()"
   ]
  },
  {
   "cell_type": "code",
   "execution_count": 115,
   "id": "78a7a274",
   "metadata": {},
   "outputs": [
    {
     "data": {
      "text/plain": [
       "LinearRegression()"
      ]
     },
     "execution_count": 115,
     "metadata": {},
     "output_type": "execute_result"
    }
   ],
   "source": [
    "regressor = LinearRegression()\n",
    "regressor.fit(train[continous_features], train['BMI'])"
   ]
  },
  {
   "cell_type": "code",
   "execution_count": 116,
   "id": "82f124c2",
   "metadata": {},
   "outputs": [
    {
     "data": {
      "text/plain": [
       "array([20.80219252, 26.17534151, 25.93498452, 22.50047733, 28.45236711,\n",
       "       34.06587308, 28.69272409, 20.74210328, 24.13867289, 36.69268946,\n",
       "       22.83886114, 13.550491  , 28.93308108, 29.45173263, 32.36758827,\n",
       "       25.65668996, 25.53651147, 19.62255927, 21.86164729, 28.69272409])"
      ]
     },
     "execution_count": 116,
     "metadata": {},
     "output_type": "execute_result"
    }
   ],
   "source": [
    "y_pred = regressor.predict(test[continous_features])\n",
    "y_pred"
   ]
  },
  {
   "cell_type": "code",
   "execution_count": null,
   "id": "8fa61693",
   "metadata": {},
   "outputs": [],
   "source": [
    "mse = "
   ]
  }
 ],
 "metadata": {
  "kernelspec": {
   "display_name": "Python 3 (ipykernel)",
   "language": "python",
   "name": "python3"
  },
  "language_info": {
   "codemirror_mode": {
    "name": "ipython",
    "version": 3
   },
   "file_extension": ".py",
   "mimetype": "text/x-python",
   "name": "python",
   "nbconvert_exporter": "python",
   "pygments_lexer": "ipython3",
   "version": "3.9.7"
  }
 },
 "nbformat": 4,
 "nbformat_minor": 5
}
